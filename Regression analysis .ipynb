{
 "cells": [
  {
   "cell_type": "markdown",
   "id": "aba144f8",
   "metadata": {},
   "source": [
    "## Project in Data Analysis\n",
    "\n",
    "We will explore the following tasks in more details:\n",
    "\n",
    "- Data Exploration:\n",
    "     - Reading the data\n",
    "     - Presenting the data in a summarized way (columns, rows, data types)\n",
    "     - Cleaning the data from duplicates, empty data, data type.\n",
    "     - Calculating some summary statistics.\n",
    "- Data Analysis (non-relational):\n",
    "     - Analyzing continuous and categorical variables\n",
    "     - Performing some statistical analyses\n",
    "     - Visualisations\n",
    "- Analyzing the relationship between two variables simultaneously using graphical representations.\n",
    "- Correlation/Regression Analysis:\n",
    "     - Building a linear regression model\n",
    "     - Visual presentation\n",
    "     - Explain the conclusion\n"
   ]
  },
  {
   "cell_type": "markdown",
   "id": "04d2d327",
   "metadata": {},
   "source": [
    "###### Explaining the dataset"
   ]
  },
  {
   "cell_type": "markdown",
   "id": "3ab5131c",
   "metadata": {},
   "source": [
    "- The dataset I have chosen for this project is related to various fish species and their body characteristics, including weight measured in grams, length1, which represents the vertical length in centimeters, length2, which represents the diagonal length in centimeters, length3, which represents the cross length in centimeters, height measured in centimeters, and width, which represents the diagonal width in centimeters.\n",
    "\n",
    "    - Species: The name of the fish species\n",
    "    - Weight: The weight of the fish in grams\n",
    "    - Length1: Vertical length in cm\n",
    "    - Length2: Diagonal length in cm\n",
    "    - Length3: Cross length in cm\n",
    "    - Height: Height in cm\n",
    "    - Width: Diagonal width in cm\n",
    "\n",
    "\n",
    "\n",
    "\n",
    "\n"
   ]
  },
  {
   "cell_type": "code",
   "execution_count": 83,
   "id": "bd04dd61",
   "metadata": {},
   "outputs": [
    {
     "data": {
      "text/plain": [
       "(159, 7)"
      ]
     },
     "execution_count": 83,
     "metadata": {},
     "output_type": "execute_result"
    }
   ],
   "source": [
    "import pandas as pd \n",
    "df = pd.read_csv(r'C:\\Users\\arben\\OneDrive\\Desktop\\Fish.csv')\n",
    "df.shape"
   ]
  },
  {
   "cell_type": "markdown",
   "id": "599d4b8c",
   "metadata": {},
   "source": [
    "- Our dataset has 159 rows (records) and 7 columns (features). The columns contain information about the fish species and its attributes: Weight, Length1, Length2, Length3, Height, as well as Width."
   ]
  },
  {
   "cell_type": "code",
   "execution_count": 84,
   "id": "0ad97f5b",
   "metadata": {},
   "outputs": [
    {
     "name": "stdout",
     "output_type": "stream",
     "text": [
      "<class 'pandas.core.frame.DataFrame'>\n",
      "RangeIndex: 159 entries, 0 to 158\n",
      "Data columns (total 7 columns):\n",
      " #   Column   Non-Null Count  Dtype  \n",
      "---  ------   --------------  -----  \n",
      " 0   Species  159 non-null    object \n",
      " 1   Weight   159 non-null    float64\n",
      " 2   Length1  159 non-null    float64\n",
      " 3   Length2  159 non-null    float64\n",
      " 4   Length3  159 non-null    float64\n",
      " 5   Height   159 non-null    float64\n",
      " 6   Width    159 non-null    float64\n",
      "dtypes: float64(6), object(1)\n",
      "memory usage: 8.8+ KB\n"
     ]
    }
   ],
   "source": [
    "# getting general information\n",
    "df.info()"
   ]
  },
  {
   "cell_type": "markdown",
   "id": "a2a20cfd",
   "metadata": {},
   "source": [
    "- Our dataset consists of 159 rows (records) and 7 columns (features). The columns contain information about the fish species (Species) and seven attributes: Weight, Length1, Length2, Length3, Height, and Width.\n",
    "\n",
    "- The data in the columns Weight, Length1, Length2, Length3, Height, and Width are of type float64, while Species is of type object (as it contains the fish species' names).\n",
    "\n",
    "- There are no null values in this DataFrame, as indicated by the \"Non-Null Count\" row in the data table. The memory usage shows how much memory space is used to store the DataFrame in RAM."
   ]
  },
  {
   "cell_type": "code",
   "execution_count": 85,
   "id": "e680c6ce",
   "metadata": {},
   "outputs": [
    {
     "data": {
      "text/html": [
       "<div>\n",
       "<style scoped>\n",
       "    .dataframe tbody tr th:only-of-type {\n",
       "        vertical-align: middle;\n",
       "    }\n",
       "\n",
       "    .dataframe tbody tr th {\n",
       "        vertical-align: top;\n",
       "    }\n",
       "\n",
       "    .dataframe thead th {\n",
       "        text-align: right;\n",
       "    }\n",
       "</style>\n",
       "<table border=\"1\" class=\"dataframe\">\n",
       "  <thead>\n",
       "    <tr style=\"text-align: right;\">\n",
       "      <th></th>\n",
       "      <th>Species</th>\n",
       "      <th>Weight</th>\n",
       "      <th>Length1</th>\n",
       "      <th>Length2</th>\n",
       "      <th>Length3</th>\n",
       "      <th>Height</th>\n",
       "      <th>Width</th>\n",
       "    </tr>\n",
       "  </thead>\n",
       "  <tbody>\n",
       "    <tr>\n",
       "      <th>0</th>\n",
       "      <td>Bream</td>\n",
       "      <td>242.0</td>\n",
       "      <td>23.2</td>\n",
       "      <td>25.4</td>\n",
       "      <td>30.0</td>\n",
       "      <td>11.5200</td>\n",
       "      <td>4.0200</td>\n",
       "    </tr>\n",
       "    <tr>\n",
       "      <th>1</th>\n",
       "      <td>Bream</td>\n",
       "      <td>290.0</td>\n",
       "      <td>24.0</td>\n",
       "      <td>26.3</td>\n",
       "      <td>31.2</td>\n",
       "      <td>12.4800</td>\n",
       "      <td>4.3056</td>\n",
       "    </tr>\n",
       "    <tr>\n",
       "      <th>2</th>\n",
       "      <td>Bream</td>\n",
       "      <td>340.0</td>\n",
       "      <td>23.9</td>\n",
       "      <td>26.5</td>\n",
       "      <td>31.1</td>\n",
       "      <td>12.3778</td>\n",
       "      <td>4.6961</td>\n",
       "    </tr>\n",
       "    <tr>\n",
       "      <th>3</th>\n",
       "      <td>Bream</td>\n",
       "      <td>363.0</td>\n",
       "      <td>26.3</td>\n",
       "      <td>29.0</td>\n",
       "      <td>33.5</td>\n",
       "      <td>12.7300</td>\n",
       "      <td>4.4555</td>\n",
       "    </tr>\n",
       "    <tr>\n",
       "      <th>4</th>\n",
       "      <td>Bream</td>\n",
       "      <td>430.0</td>\n",
       "      <td>26.5</td>\n",
       "      <td>29.0</td>\n",
       "      <td>34.0</td>\n",
       "      <td>12.4440</td>\n",
       "      <td>5.1340</td>\n",
       "    </tr>\n",
       "  </tbody>\n",
       "</table>\n",
       "</div>"
      ],
      "text/plain": [
       "  Species  Weight  Length1  Length2  Length3   Height   Width\n",
       "0   Bream   242.0     23.2     25.4     30.0  11.5200  4.0200\n",
       "1   Bream   290.0     24.0     26.3     31.2  12.4800  4.3056\n",
       "2   Bream   340.0     23.9     26.5     31.1  12.3778  4.6961\n",
       "3   Bream   363.0     26.3     29.0     33.5  12.7300  4.4555\n",
       "4   Bream   430.0     26.5     29.0     34.0  12.4440  5.1340"
      ]
     },
     "execution_count": 85,
     "metadata": {},
     "output_type": "execute_result"
    }
   ],
   "source": [
    "# showing first 5 rows using  head() method\n",
    "df.head()"
   ]
  },
  {
   "cell_type": "code",
   "execution_count": 6,
   "id": "edda789c",
   "metadata": {},
   "outputs": [
    {
     "data": {
      "text/html": [
       "<div>\n",
       "<style scoped>\n",
       "    .dataframe tbody tr th:only-of-type {\n",
       "        vertical-align: middle;\n",
       "    }\n",
       "\n",
       "    .dataframe tbody tr th {\n",
       "        vertical-align: top;\n",
       "    }\n",
       "\n",
       "    .dataframe thead th {\n",
       "        text-align: right;\n",
       "    }\n",
       "</style>\n",
       "<table border=\"1\" class=\"dataframe\">\n",
       "  <thead>\n",
       "    <tr style=\"text-align: right;\">\n",
       "      <th></th>\n",
       "      <th>Species</th>\n",
       "      <th>Weight</th>\n",
       "      <th>Length1</th>\n",
       "      <th>Length2</th>\n",
       "      <th>Length3</th>\n",
       "      <th>Height</th>\n",
       "      <th>Width</th>\n",
       "    </tr>\n",
       "  </thead>\n",
       "  <tbody>\n",
       "    <tr>\n",
       "      <th>154</th>\n",
       "      <td>Smelt</td>\n",
       "      <td>12.2</td>\n",
       "      <td>11.5</td>\n",
       "      <td>12.2</td>\n",
       "      <td>13.4</td>\n",
       "      <td>2.0904</td>\n",
       "      <td>1.3936</td>\n",
       "    </tr>\n",
       "    <tr>\n",
       "      <th>155</th>\n",
       "      <td>Smelt</td>\n",
       "      <td>13.4</td>\n",
       "      <td>11.7</td>\n",
       "      <td>12.4</td>\n",
       "      <td>13.5</td>\n",
       "      <td>2.4300</td>\n",
       "      <td>1.2690</td>\n",
       "    </tr>\n",
       "    <tr>\n",
       "      <th>156</th>\n",
       "      <td>Smelt</td>\n",
       "      <td>12.2</td>\n",
       "      <td>12.1</td>\n",
       "      <td>13.0</td>\n",
       "      <td>13.8</td>\n",
       "      <td>2.2770</td>\n",
       "      <td>1.2558</td>\n",
       "    </tr>\n",
       "    <tr>\n",
       "      <th>157</th>\n",
       "      <td>Smelt</td>\n",
       "      <td>19.7</td>\n",
       "      <td>13.2</td>\n",
       "      <td>14.3</td>\n",
       "      <td>15.2</td>\n",
       "      <td>2.8728</td>\n",
       "      <td>2.0672</td>\n",
       "    </tr>\n",
       "    <tr>\n",
       "      <th>158</th>\n",
       "      <td>Smelt</td>\n",
       "      <td>19.9</td>\n",
       "      <td>13.8</td>\n",
       "      <td>15.0</td>\n",
       "      <td>16.2</td>\n",
       "      <td>2.9322</td>\n",
       "      <td>1.8792</td>\n",
       "    </tr>\n",
       "  </tbody>\n",
       "</table>\n",
       "</div>"
      ],
      "text/plain": [
       "    Species  Weight  Length1  Length2  Length3  Height   Width\n",
       "154   Smelt    12.2     11.5     12.2     13.4  2.0904  1.3936\n",
       "155   Smelt    13.4     11.7     12.4     13.5  2.4300  1.2690\n",
       "156   Smelt    12.2     12.1     13.0     13.8  2.2770  1.2558\n",
       "157   Smelt    19.7     13.2     14.3     15.2  2.8728  2.0672\n",
       "158   Smelt    19.9     13.8     15.0     16.2  2.9322  1.8792"
      ]
     },
     "execution_count": 6,
     "metadata": {},
     "output_type": "execute_result"
    }
   ],
   "source": [
    "# if we use the method tail() we will show last 5 records\n",
    "# if we put a number inside brackets for example (10) we will show then 10 records\n",
    "df.tail()"
   ]
  },
  {
   "cell_type": "code",
   "execution_count": 8,
   "id": "0cc1f70a",
   "metadata": {},
   "outputs": [
    {
     "data": {
      "text/html": [
       "<div>\n",
       "<style scoped>\n",
       "    .dataframe tbody tr th:only-of-type {\n",
       "        vertical-align: middle;\n",
       "    }\n",
       "\n",
       "    .dataframe tbody tr th {\n",
       "        vertical-align: top;\n",
       "    }\n",
       "\n",
       "    .dataframe thead th {\n",
       "        text-align: right;\n",
       "    }\n",
       "</style>\n",
       "<table border=\"1\" class=\"dataframe\">\n",
       "  <thead>\n",
       "    <tr style=\"text-align: right;\">\n",
       "      <th></th>\n",
       "      <th>Weight</th>\n",
       "      <th>Length1</th>\n",
       "      <th>Length2</th>\n",
       "      <th>Length3</th>\n",
       "      <th>Height</th>\n",
       "      <th>Width</th>\n",
       "    </tr>\n",
       "  </thead>\n",
       "  <tbody>\n",
       "    <tr>\n",
       "      <th>count</th>\n",
       "      <td>159.000000</td>\n",
       "      <td>159.000000</td>\n",
       "      <td>159.000000</td>\n",
       "      <td>159.000000</td>\n",
       "      <td>159.000000</td>\n",
       "      <td>159.000000</td>\n",
       "    </tr>\n",
       "    <tr>\n",
       "      <th>mean</th>\n",
       "      <td>398.326415</td>\n",
       "      <td>26.247170</td>\n",
       "      <td>28.415723</td>\n",
       "      <td>31.227044</td>\n",
       "      <td>8.970994</td>\n",
       "      <td>4.417486</td>\n",
       "    </tr>\n",
       "    <tr>\n",
       "      <th>std</th>\n",
       "      <td>357.978317</td>\n",
       "      <td>9.996441</td>\n",
       "      <td>10.716328</td>\n",
       "      <td>11.610246</td>\n",
       "      <td>4.286208</td>\n",
       "      <td>1.685804</td>\n",
       "    </tr>\n",
       "    <tr>\n",
       "      <th>min</th>\n",
       "      <td>0.000000</td>\n",
       "      <td>7.500000</td>\n",
       "      <td>8.400000</td>\n",
       "      <td>8.800000</td>\n",
       "      <td>1.728400</td>\n",
       "      <td>1.047600</td>\n",
       "    </tr>\n",
       "    <tr>\n",
       "      <th>25%</th>\n",
       "      <td>120.000000</td>\n",
       "      <td>19.050000</td>\n",
       "      <td>21.000000</td>\n",
       "      <td>23.150000</td>\n",
       "      <td>5.944800</td>\n",
       "      <td>3.385650</td>\n",
       "    </tr>\n",
       "    <tr>\n",
       "      <th>50%</th>\n",
       "      <td>273.000000</td>\n",
       "      <td>25.200000</td>\n",
       "      <td>27.300000</td>\n",
       "      <td>29.400000</td>\n",
       "      <td>7.786000</td>\n",
       "      <td>4.248500</td>\n",
       "    </tr>\n",
       "    <tr>\n",
       "      <th>75%</th>\n",
       "      <td>650.000000</td>\n",
       "      <td>32.700000</td>\n",
       "      <td>35.500000</td>\n",
       "      <td>39.650000</td>\n",
       "      <td>12.365900</td>\n",
       "      <td>5.584500</td>\n",
       "    </tr>\n",
       "    <tr>\n",
       "      <th>max</th>\n",
       "      <td>1650.000000</td>\n",
       "      <td>59.000000</td>\n",
       "      <td>63.400000</td>\n",
       "      <td>68.000000</td>\n",
       "      <td>18.957000</td>\n",
       "      <td>8.142000</td>\n",
       "    </tr>\n",
       "  </tbody>\n",
       "</table>\n",
       "</div>"
      ],
      "text/plain": [
       "            Weight     Length1     Length2     Length3      Height       Width\n",
       "count   159.000000  159.000000  159.000000  159.000000  159.000000  159.000000\n",
       "mean    398.326415   26.247170   28.415723   31.227044    8.970994    4.417486\n",
       "std     357.978317    9.996441   10.716328   11.610246    4.286208    1.685804\n",
       "min       0.000000    7.500000    8.400000    8.800000    1.728400    1.047600\n",
       "25%     120.000000   19.050000   21.000000   23.150000    5.944800    3.385650\n",
       "50%     273.000000   25.200000   27.300000   29.400000    7.786000    4.248500\n",
       "75%     650.000000   32.700000   35.500000   39.650000   12.365900    5.584500\n",
       "max    1650.000000   59.000000   63.400000   68.000000   18.957000    8.142000"
      ]
     },
     "execution_count": 8,
     "metadata": {},
     "output_type": "execute_result"
    }
   ],
   "source": [
    "# describing numerical features\n",
    "df.describe()"
   ]
  },
  {
   "cell_type": "markdown",
   "id": "667716ce",
   "metadata": {},
   "source": [
    "- The above statistics show the mean, standard deviation, minimum, maximum, and median for each of the columns.\n",
    "\n",
    "- The 'Weight' column has an average fish weight of 398.33 grams, with a standard deviation of 357.98 grams. The minimum and maximum weight values in this table are 0 and 1650 grams, respectively.\n",
    "\n",
    "- The 'Length1,' 'Length2,' and 'Length3' columns represent the length of the fish in centimeters in three different dimensions. The 'Height' column indicates the fish's height in centimeters, while the 'Width' column shows its width in centimeters.\n",
    "\n",
    "- The mean value for Length1 is 26.25 cm, while for Length2 and Length3, it's 28.42 cm and 31.23 cm, respectively. The mean height is 8.97 cm, and the mean width is 4.42 cm.\n",
    "\n",
    "- The standard deviation ranges from 1.69 cm for Width to 11.61 cm for Length3. 25% of the values for Weight are below 120 grams, 50% are below 273 grams, and 75% are below 650 grams"
   ]
  },
  {
   "cell_type": "code",
   "execution_count": 9,
   "id": "517407d8",
   "metadata": {},
   "outputs": [
    {
     "data": {
      "text/plain": [
       "Species    0\n",
       "Weight     0\n",
       "Length1    0\n",
       "Length2    0\n",
       "Length3    0\n",
       "Height     0\n",
       "Width      0\n",
       "dtype: int64"
      ]
     },
     "execution_count": 9,
     "metadata": {},
     "output_type": "execute_result"
    }
   ],
   "source": [
    "df.isnull().sum()"
   ]
  },
  {
   "cell_type": "markdown",
   "id": "19179af7",
   "metadata": {},
   "source": [
    "- This result shows the number of null values for each column in the above DataFrame. In this case, the output indicates that there are no null values in any of the columns of the DataFrame. All columns have 159 values, as expected due to the number of accessible rows in the dataset."
   ]
  },
  {
   "cell_type": "code",
   "execution_count": 12,
   "id": "f6dd0965",
   "metadata": {},
   "outputs": [
    {
     "data": {
      "text/plain": [
       "0"
      ]
     },
     "execution_count": 12,
     "metadata": {},
     "output_type": "execute_result"
    }
   ],
   "source": [
    "df.duplicated().sum()"
   ]
  },
  {
   "cell_type": "markdown",
   "id": "87373aca",
   "metadata": {},
   "source": [
    "- Since the result is zero, this means that in the DataFrame df, there are no duplicate rows. In other words, all rows are unique, and there are no identical rows in the dataset."
   ]
  },
  {
   "cell_type": "markdown",
   "id": "924740d0",
   "metadata": {},
   "source": [
    "#### Data Analysis"
   ]
  },
  {
   "cell_type": "code",
   "execution_count": 27,
   "id": "8e681168",
   "metadata": {},
   "outputs": [
    {
     "data": {
      "image/png": "[encoded data removed]",
      "text/plain": [
       "<Figure size 576x432 with 1 Axes>"
      ]
     },
     "metadata": {},
     "output_type": "display_data"
    }
   ],
   "source": [
    "import numpy as np\n",
    "import pandas as pd\n",
    "import matplotlib.pyplot as plt\n",
    "\n",
    "\n",
    "\n",
    "# Define the number of bins for the histogram\n",
    "num_bins = 20\n",
    "\n",
    "fig = plt.figure(figsize=(8, 6), facecolor='gray')\n",
    "\n",
    "# Plot the histogram with custom labels and formatting\n",
    "plt.hist(df['Weight'], bins=num_bins, color='lightblue', edgecolor='black', linewidth=1.2)\n",
    "\n",
    "# Add x-axis and y-axis labels\n",
    "plt.xlabel('Weight (gram)', fontsize=12)\n",
    "plt.ylabel('Frequency', fontsize=12)\n",
    "\n",
    "# Add a title\n",
    "plt.title('Distribution of Weight', fontsize=14)\n",
    "\n",
    "# Add a grid\n",
    "plt.grid(axis='y', alpha=0.85)\n",
    "\n",
    "# Add a legend\n",
    "plt.legend(['Weight'], loc='best')\n",
    "\n",
    "# Show the plot\n",
    "plt.show()\n"
   ]
  },
  {
   "cell_type": "code",
   "execution_count": 15,
   "id": "80fa0080",
   "metadata": {},
   "outputs": [
    {
     "data": {
      "text/plain": [
       "count     159.000000\n",
       "mean      398.326415\n",
       "std       357.978317\n",
       "min         0.000000\n",
       "25%       120.000000\n",
       "50%       273.000000\n",
       "75%       650.000000\n",
       "max      1650.000000\n",
       "Name: Weight, dtype: float64"
      ]
     },
     "execution_count": 15,
     "metadata": {},
     "output_type": "execute_result"
    }
   ],
   "source": [
    "df.Weight.describe()"
   ]
  },
  {
   "cell_type": "markdown",
   "id": "d998dca1",
   "metadata": {},
   "source": [
    "- The column \"Weight\" contains information about the weights of different fish in grams. Since the histogram shows the number of cases in each category of different weights, the histogram for this column shows that the majority of fish weigh between 0 and 400 grams, while the smallest number of fish weigh between 1200 and 1600 grams. The histogram also shows that the fish weights have a wide distribution, including cases from 0 grams (unweighed fish) to 1650 grams.\n",
    "\n",
    "- These values indicate the distribution and characteristics of the weight data in the dataset. For example, the large mean indicates that the weights in the dataset are high, while the large standard deviation indicates that the weights have a wide distribution around the mean. The minimum value of 0 may indicate that there are some missing or invalid values in the dataset. Furthermore, the majority of the data falls between 120 and 650, and there are some outlier values that go beyond 1000."
   ]
  },
  {
   "cell_type": "code",
   "execution_count": 30,
   "id": "843bbadf",
   "metadata": {},
   "outputs": [],
   "source": [
    "import matplotlib.pyplot as plt\n",
    "\n",
    "def plot_histograms(data, column_names):\n",
    "    fig, axes = plt.subplots(nrows=1, ncols=len(column_names), figsize=(20, 5))\n",
    "\n",
    "    for i, col_name in enumerate(column_names):\n",
    "        ax = axes[i]\n",
    "        ax.hist(data[col_name], bins=20, alpha=1)\n",
    "        ax.set_xlabel(col_name)\n",
    "        ax.set_ylabel('Frequency')\n",
    "        ax.set_title('Histogram of ' + col_name)\n",
    "\n",
    "    plt.tight_layout()\n",
    "    plt.show()\n"
   ]
  },
  {
   "cell_type": "code",
   "execution_count": 31,
   "id": "8e3ae298",
   "metadata": {},
   "outputs": [
    {
     "data": {
      "image/png": "[encoded data removed]",
      "text/plain": [
       "<Figure size 1440x360 with 4 Axes>"
      ]
     },
     "metadata": {
      "needs_background": "light"
     },
     "output_type": "display_data"
    }
   ],
   "source": [
    "# Plot histograms for 5 columns\n",
    "plot_histograms(df, ['Width', 'Length1', 'Length2', 'Length3'])"
   ]
  },
  {
   "cell_type": "markdown",
   "id": "e5d47338",
   "metadata": {},
   "source": [
    "##### Analiza e te dhenave (jo relacionale):"
   ]
  },
  {
   "cell_type": "markdown",
   "id": "6e3def6c",
   "metadata": {},
   "source": [
    "### Data analysis (non-relational)"
   ]
  },
  {
   "cell_type": "code",
   "execution_count": 34,
   "id": "a1cdd3d7",
   "metadata": {},
   "outputs": [
    {
     "name": "stdout",
     "output_type": "stream",
     "text": [
      "Data shape: (159, 7)\n"
     ]
    }
   ],
   "source": [
    "\n",
    "# Check the shape of the data\n",
    "print('Data shape:', df.shape)\n"
   ]
  },
  {
   "cell_type": "code",
   "execution_count": 36,
   "id": "10a1367c",
   "metadata": {},
   "outputs": [
    {
     "name": "stdout",
     "output_type": "stream",
     "text": [
      "Summary statistics for continuous variables:\n",
      "             Weight     Length1     Length2     Length3      Height       Width\n",
      "count   159.000000  159.000000  159.000000  159.000000  159.000000  159.000000\n",
      "mean    398.326415   26.247170   28.415723   31.227044    8.970994    4.417486\n",
      "std     357.978317    9.996441   10.716328   11.610246    4.286208    1.685804\n",
      "min       0.000000    7.500000    8.400000    8.800000    1.728400    1.047600\n",
      "25%     120.000000   19.050000   21.000000   23.150000    5.944800    3.385650\n",
      "50%     273.000000   25.200000   27.300000   29.400000    7.786000    4.248500\n",
      "75%     650.000000   32.700000   35.500000   39.650000   12.365900    5.584500\n",
      "max    1650.000000   59.000000   63.400000   68.000000   18.957000    8.142000\n"
     ]
    }
   ],
   "source": [
    "\n",
    "# Display summary statistics for continuous variables\n",
    "print('Summary statistics for continuous variables:\\n', df.describe())"
   ]
  },
  {
   "cell_type": "code",
   "execution_count": 37,
   "id": "6d011b11",
   "metadata": {},
   "outputs": [
    {
     "data": {
      "text/html": [
       "<div>\n",
       "<style scoped>\n",
       "    .dataframe tbody tr th:only-of-type {\n",
       "        vertical-align: middle;\n",
       "    }\n",
       "\n",
       "    .dataframe tbody tr th {\n",
       "        vertical-align: top;\n",
       "    }\n",
       "\n",
       "    .dataframe thead th {\n",
       "        text-align: right;\n",
       "    }\n",
       "</style>\n",
       "<table border=\"1\" class=\"dataframe\">\n",
       "  <thead>\n",
       "    <tr style=\"text-align: right;\">\n",
       "      <th></th>\n",
       "      <th>Species</th>\n",
       "      <th>Weight</th>\n",
       "      <th>Length1</th>\n",
       "      <th>Length2</th>\n",
       "      <th>Length3</th>\n",
       "      <th>Height</th>\n",
       "      <th>Width</th>\n",
       "    </tr>\n",
       "  </thead>\n",
       "  <tbody>\n",
       "    <tr>\n",
       "      <th>0</th>\n",
       "      <td>Bream</td>\n",
       "      <td>242.0</td>\n",
       "      <td>23.2</td>\n",
       "      <td>25.4</td>\n",
       "      <td>30.0</td>\n",
       "      <td>11.5200</td>\n",
       "      <td>4.0200</td>\n",
       "    </tr>\n",
       "    <tr>\n",
       "      <th>1</th>\n",
       "      <td>Bream</td>\n",
       "      <td>290.0</td>\n",
       "      <td>24.0</td>\n",
       "      <td>26.3</td>\n",
       "      <td>31.2</td>\n",
       "      <td>12.4800</td>\n",
       "      <td>4.3056</td>\n",
       "    </tr>\n",
       "    <tr>\n",
       "      <th>2</th>\n",
       "      <td>Bream</td>\n",
       "      <td>340.0</td>\n",
       "      <td>23.9</td>\n",
       "      <td>26.5</td>\n",
       "      <td>31.1</td>\n",
       "      <td>12.3778</td>\n",
       "      <td>4.6961</td>\n",
       "    </tr>\n",
       "    <tr>\n",
       "      <th>3</th>\n",
       "      <td>Bream</td>\n",
       "      <td>363.0</td>\n",
       "      <td>26.3</td>\n",
       "      <td>29.0</td>\n",
       "      <td>33.5</td>\n",
       "      <td>12.7300</td>\n",
       "      <td>4.4555</td>\n",
       "    </tr>\n",
       "    <tr>\n",
       "      <th>4</th>\n",
       "      <td>Bream</td>\n",
       "      <td>430.0</td>\n",
       "      <td>26.5</td>\n",
       "      <td>29.0</td>\n",
       "      <td>34.0</td>\n",
       "      <td>12.4440</td>\n",
       "      <td>5.1340</td>\n",
       "    </tr>\n",
       "  </tbody>\n",
       "</table>\n",
       "</div>"
      ],
      "text/plain": [
       "  Species  Weight  Length1  Length2  Length3   Height   Width\n",
       "0   Bream   242.0     23.2     25.4     30.0  11.5200  4.0200\n",
       "1   Bream   290.0     24.0     26.3     31.2  12.4800  4.3056\n",
       "2   Bream   340.0     23.9     26.5     31.1  12.3778  4.6961\n",
       "3   Bream   363.0     26.3     29.0     33.5  12.7300  4.4555\n",
       "4   Bream   430.0     26.5     29.0     34.0  12.4440  5.1340"
      ]
     },
     "execution_count": 37,
     "metadata": {},
     "output_type": "execute_result"
    }
   ],
   "source": [
    "df.head()"
   ]
  },
  {
   "cell_type": "markdown",
   "id": "f81f5b3e",
   "metadata": {},
   "source": [
    "#### Boxplot Presentation - Checking for Outliers"
   ]
  },
  {
   "cell_type": "code",
   "execution_count": 67,
   "id": "acbe674f",
   "metadata": {},
   "outputs": [],
   "source": [
    "import seaborn as sns\n",
    "import matplotlib.pyplot as plt\n",
    "\n",
    "def plot_boxplots(data,continuous_vars):\n",
    "    continuous_vars = ['Weight', 'Length1', 'Length2', 'Length3', 'Height', 'Width']\n",
    "    fig, axes = plt.subplots(nrows=2, ncols=3, figsize=(20, 8))\n",
    "    for i, var in enumerate(continuous_vars):\n",
    "        row = i // 3\n",
    "        col = i % 3\n",
    "        sns.boxplot(x='Species', y=var, data=data, ax=axes[row][col])\n",
    "    plt.tight_layout()\n",
    "    plt.show()\n",
    "\n"
   ]
  },
  {
   "cell_type": "code",
   "execution_count": 68,
   "id": "c11d4cba",
   "metadata": {},
   "outputs": [
    {
     "data": {
      "image/png": "[encoded data removed]",
      "text/plain": [
       "<Figure size 1440x576 with 6 Axes>"
      ]
     },
     "metadata": {
      "needs_background": "light"
     },
     "output_type": "display_data"
    }
   ],
   "source": [
    "plot_boxplots(df, ['Weight', 'Length1', 'Length2', 'Length3', 'Height', 'Width'])\n"
   ]
  },
  {
   "cell_type": "code",
   "execution_count": 46,
   "id": "ee00db45",
   "metadata": {},
   "outputs": [
    {
     "data": {
      "image/png": "[encoded data removed]",
      "text/plain": [
       "<Figure size 432x288 with 1 Axes>"
      ]
     },
     "metadata": {
      "needs_background": "light"
     },
     "output_type": "display_data"
    }
   ],
   "source": [
    "# Plot scatterplot of height vs. weight colored by gender\n",
    "sns.scatterplot(x='Height', y='Weight', hue='Species', data=df)\n",
    "plt.title(\"Scatter plot of Height vs Weight\", fontsize=15)\n",
    "plt.show()"
   ]
  },
  {
   "cell_type": "code",
   "execution_count": 71,
   "id": "adbef6c2",
   "metadata": {},
   "outputs": [
    {
     "data": {
      "image/png": "[encoded data removed]",
      "text/plain": [
       "<Figure size 432x288 with 1 Axes>"
      ]
     },
     "metadata": {
      "needs_background": "light"
     },
     "output_type": "display_data"
    }
   ],
   "source": [
    "# Plot bar chart of mean salary by gender\n",
    "count_species_by_weight = df.groupby('Species')['Weight'].count()\n",
    "count_species_by_weight.plot(kind='bar')\n",
    "plt.title('Count Fish Species by Weight', fontsize=16)\n",
    "plt.ylabel('Count')\n",
    "plt.show()\n"
   ]
  },
  {
   "cell_type": "code",
   "execution_count": 95,
   "id": "5b7f4ccf",
   "metadata": {},
   "outputs": [
    {
     "data": {
      "image/png": "[encoded data removed]",
      "text/plain": [
       "<Figure size 432x288 with 1 Axes>"
      ]
     },
     "metadata": {
      "needs_background": "light"
     },
     "output_type": "display_data"
    }
   ],
   "source": [
    "mean_species_by_weight = df.groupby('Species')['Weight'].mean()\n",
    "mean_species_by_weight.plot(kind='bar')\n",
    "plt.title('Fish Species based on mean of Weight', fontsize=16)\n",
    "plt.ylabel('Frequency')\n",
    "plt.show()\n"
   ]
  },
  {
   "cell_type": "markdown",
   "id": "ba3084cc",
   "metadata": {},
   "source": [
    "### Correlation matrix"
   ]
  },
  {
   "cell_type": "code",
   "execution_count": 73,
   "id": "af206e0f",
   "metadata": {},
   "outputs": [
    {
     "name": "stdout",
     "output_type": "stream",
     "text": [
      "           Weight   Length1   Length2   Length3    Height     Width\n",
      "Weight   1.000000  0.915712  0.918618  0.923044  0.724345  0.886507\n",
      "Length1  0.915712  1.000000  0.999517  0.992031  0.625378  0.867050\n",
      "Length2  0.918618  0.999517  1.000000  0.994103  0.640441  0.873547\n",
      "Length3  0.923044  0.992031  0.994103  1.000000  0.703409  0.878520\n",
      "Height   0.724345  0.625378  0.640441  0.703409  1.000000  0.792881\n",
      "Width    0.886507  0.867050  0.873547  0.878520  0.792881  1.000000\n"
     ]
    }
   ],
   "source": [
    "\n",
    "# Compute correlation matrix between all continuous variables\n",
    "corr_matrix = df[['Weight', 'Length1', 'Length2', 'Length3', 'Height', 'Width']].corr()\n",
    "\n",
    "# Print the correlation matrix\n",
    "print(corr_matrix)\n"
   ]
  },
  {
   "cell_type": "code",
   "execution_count": 74,
   "id": "48ed942b",
   "metadata": {},
   "outputs": [
    {
     "data": {
      "image/png": "[encoded data removed]",
      "text/plain": [
       "<Figure size 720x720 with 2 Axes>"
      ]
     },
     "metadata": {
      "needs_background": "light"
     },
     "output_type": "display_data"
    }
   ],
   "source": [
    "import numpy as np\n",
    "import pandas as pd\n",
    "import seaborn as sns\n",
    "import matplotlib.pyplot as plt\n",
    "\n",
    "# Compute the correlation matrix\n",
    "corr_matrix = df.corr()\n",
    "\n",
    "# Set up the matplotlib figure\n",
    "fig, ax = plt.subplots(figsize=(10,10))\n",
    "\n",
    "# Generate a custom diverging colormap\n",
    "cmap = sns.diverging_palette(220, 10, as_cmap=True)\n",
    "\n",
    "# Draw the heatmap with the mask and correct aspect ratio\n",
    "sns.heatmap(corr_matrix, cmap=cmap, vmax=1, vmin=-1, center=0,\n",
    "            square=True, linewidths=.5, cbar_kws={\"shrink\": .5}, annot=True)\n",
    "\n",
    "# Add a title\n",
    "plt.title('Correlation Matrix', fontsize=16)\n",
    "\n",
    "# Show the plot\n",
    "plt.show()\n"
   ]
  },
  {
   "cell_type": "markdown",
   "id": "40d99e81",
   "metadata": {},
   "source": [
    "- This correlation matrix shows the correlation between the continuous variables in the dataset. The values range from -1 to 1, where negative values indicate a negative correlation between variables, positive values indicate a positive correlation between variables, and a value of 0 indicates no correlation between variables.\n",
    "\n",
    "- This matrix shows that in this dataset, there is a high correlation between the weight and length of the fish, as well as between the width and the length at points 1 and 2. There is also a high correlation between the width and the length of the fish. On the other hand, the height of the fish has a lower correlation with the others."
   ]
  },
  {
   "cell_type": "markdown",
   "id": "5e5928a0",
   "metadata": {},
   "source": [
    "###### Linear Regression Model"
   ]
  },
  {
   "cell_type": "markdown",
   "id": "8b7e90a3",
   "metadata": {},
   "source": [
    "- Initially, we will build a linear regression model between the 'Length1' and 'Weight' variables in the 'df' dataframe. The predictor variable 'X' is defined as the 'Length1' column, and the target variable 'y' is defined as the 'Weight' column. The LinearRegression() function is used to create an instance of the linear regression model, which is then fitted with the data using the fit() function.\n",
    "\n",
    "- Finally, the coefficients of the model are printed using the coef_ and intercept_ attributes."
   ]
  },
  {
   "cell_type": "code",
   "execution_count": 75,
   "id": "2ff223dd",
   "metadata": {},
   "outputs": [
    {
     "name": "stdout",
     "output_type": "stream",
     "text": [
      "Coefficients: [32.7921639], Intercept: -462.37507915831395\n"
     ]
    }
   ],
   "source": [
    "from sklearn.linear_model import LinearRegression\n",
    "\n",
    "# Define the predictor and target variables\n",
    "X = df[['Length1']]\n",
    "y = df['Weight']\n",
    "\n",
    "# Instantiate the linear regression model\n",
    "model = LinearRegression()\n",
    "\n",
    "# Fit the model to the data\n",
    "model.fit(X, y)\n",
    "\n",
    "# Print the coefficients\n",
    "print(f'Coefficients: {model.coef_}, Intercept: {model.intercept_}')\n"
   ]
  },
  {
   "cell_type": "markdown",
   "id": "4b53cd4a",
   "metadata": {},
   "source": [
    "- The linear regression model we've built has the following formula:\n",
    "\n",
    "      y = 32.7921639 * x + (-462.37507915831395), where 'y' is the dependent variable,and 'x' is the independent variable.\n",
    "\n",
    "- The coefficient 32.7921639 represents the change in the dependent variable 'y' for every one-unit increase in the independent variable 'x.' In other words, for every one-unit increase in 'x,' we expect the value of 'y' to increase by 32.7921639.\n",
    "\n",
    "- Our model has two variables: \"Weight\" as the independent variable and \"Length1\" as the dependent variable. These two variables have a strong positive relationship, as indicated by their correlation of 0.92.\n",
    "\n",
    "- The model's results show that for a fish with a length of 1, its expected weight is approximately 32.79 grams, with an intercept of -462.38. This means that if a fish has a length of 1, it's expected to have a negative weight of -462.38 grams (due to the negative intercept).\n",
    "\n",
    "- However, it's essential to emphasize that this is just a predictive model, and there may be other factors influencing the weight of the fish that are not included in this model.\n",
    "\n",
    "\n",
    "\n",
    "\n"
   ]
  },
  {
   "cell_type": "code",
   "execution_count": 79,
   "id": "c3704d61",
   "metadata": {},
   "outputs": [
    {
     "data": {
      "image/png": "[encoded data removed]",
      "text/plain": [
       "<Figure size 432x288 with 1 Axes>"
      ]
     },
     "metadata": {
      "needs_background": "light"
     },
     "output_type": "display_data"
    }
   ],
   "source": [
    "import matplotlib.pyplot as plt\n",
    "import numpy as np\n",
    "from sklearn.linear_model import LinearRegression\n",
    "\n",
    "# Create a linear regression object\n",
    "reg = LinearRegression()\n",
    "\n",
    "# Define the predictor variable (Length1) and the target variable (Weight)\n",
    "X = df['Length1'].values.reshape(-1, 1)\n",
    "y = df['Weight'].values.reshape(-1, 1)\n",
    "\n",
    "# Fit the linear regression model\n",
    "reg.fit(X, y)\n",
    "\n",
    "# Make predictions\n",
    "y_pred = reg.predict(X)\n",
    "\n",
    "# Scatterplot of the predicted values and the actual values\n",
    "plt.scatter(X, y, color='blue')\n",
    "plt.plot(X, y_pred, color='red')\n",
    "plt.title(\"Predicted values vs Actual Values\", fontsize=16)\n",
    "plt.xlabel('Length1')\n",
    "plt.ylabel('Weight')\n",
    "plt.show()\n"
   ]
  },
  {
   "cell_type": "markdown",
   "id": "9ea09811",
   "metadata": {},
   "source": [
    "regressor.score(X_test, Y_test)\n",
    "sns.jointplot(x=\"Length1\", y=\"Weight\", data=df, kind='reg')\n",
    "\n"
   ]
  },
  {
   "cell_type": "code",
   "execution_count": 81,
   "id": "b5268c1e",
   "metadata": {},
   "outputs": [
    {
     "name": "stdout",
     "output_type": "stream",
     "text": [
      "                            OLS Regression Results                            \n",
      "==============================================================================\n",
      "Dep. Variable:                 Weight   R-squared:                       0.839\n",
      "Model:                            OLS   Adj. R-squared:                  0.837\n",
      "Method:                 Least Squares   F-statistic:                     815.3\n",
      "Date:                Sat, 06 May 2023   Prob (F-statistic):           4.75e-64\n",
      "Time:                        09:21:23   Log-Likelihood:                -1015.1\n",
      "No. Observations:                 159   AIC:                             2034.\n",
      "Df Residuals:                     157   BIC:                             2040.\n",
      "Df Model:                           1                                         \n",
      "Covariance Type:            nonrobust                                         \n",
      "==============================================================================\n",
      "                 coef    std err          t      P>|t|      [0.025      0.975]\n",
      "------------------------------------------------------------------------------\n",
      "const       -462.3751     32.243    -14.340      0.000    -526.061    -398.690\n",
      "Length1       32.7922      1.148     28.554      0.000      30.524      35.061\n",
      "==============================================================================\n",
      "Omnibus:                        9.385   Durbin-Watson:                   0.369\n",
      "Prob(Omnibus):                  0.009   Jarque-Bera (JB):                9.768\n",
      "Skew:                          -0.489   Prob(JB):                      0.00757\n",
      "Kurtosis:                       3.721   Cond. No.                         79.2\n",
      "==============================================================================\n",
      "\n",
      "Notes:\n",
      "[1] Standard Errors assume that the covariance matrix of the errors is correctly specified.\n"
     ]
    }
   ],
   "source": [
    "import statsmodels.api as sm\n",
    "\n",
    "# Fit the linear regression model\n",
    "X = df['Length1']\n",
    "y = df['Weight']\n",
    "X = sm.add_constant(X)\n",
    "model = sm.OLS(y, X).fit()\n",
    "\n",
    "# Print the summary of the model\n",
    "print(model.summary())\n"
   ]
  },
  {
   "cell_type": "markdown",
   "id": "7e718230",
   "metadata": {},
   "source": [
    "- In this regression model, we used fish length (Length1) as the predictor variable to predict fish weight (Weight). Based on our model, we found a strong positive correlation between these two variables, as indicated by their correlation of approximately 0.92.\n",
    "\n",
    "- Our regression model tells us that for every one-centimeter increase in fish length, we expect to increase the fish's weight by approximately 32.8 grams. In this case, the intercept of -462.38 represents the expected weight of a fish when its length is 0 centimeters.\n",
    "\n",
    "- The R-squared value is 0.84, indicating that around 84% of the variation in fish weight can be explained by the predictor variable, fish length (Length1). This suggests that our model performs well in predicting fish weight using its length as a predictor.\n",
    "\n",
    "- The t-test shows that this predictor is statistically significant at a confidence level of 97%. The p-value is very small (p-value < 0.05), indicating that the predictor is statistically significant, and there is a very low chance that our results are due to randomness.\n",
    "\n",
    "\n",
    "\n",
    "\n"
   ]
  },
  {
   "cell_type": "markdown",
   "id": "f7349bb6",
   "metadata": {},
   "source": [
    "### Conclusion"
   ]
  },
  {
   "cell_type": "markdown",
   "id": "7d8a56e5",
   "metadata": {},
   "source": [
    "- In conclusion, our regression analysis reveals a strong positive relationship between fish length (Length1) and fish weight (Weight). For each one-centimeter increase in fish length, we expect an increase of approximately 32.8 grams in fish weight. The model explains about 84% of the variation in fish weight, demonstrating its effectiveness in predicting fish weight based on length. Additionally, statistical tests confirm the significance of the length predictor. This information is valuable for understanding and predicting fish weight based on their length."
   ]
  },
  {
   "cell_type": "code",
   "execution_count": null,
   "id": "28e1e96f",
   "metadata": {},
   "outputs": [],
   "source": []
  }
 ],
 "metadata": {
  "kernelspec": {
   "display_name": "Python 3 (ipykernel)",
   "language": "python",
   "name": "python3"
  },
  "language_info": {
   "codemirror_mode": {
    "name": "ipython",
    "version": 3
   },
   "file_extension": ".py",
   "mimetype": "text/x-python",
   "name": "python",
   "nbconvert_exporter": "python",
   "pygments_lexer": "ipython3",
   "version": "3.7.1"
  }
 },
 "nbformat": 4,
 "nbformat_minor": 5
}
